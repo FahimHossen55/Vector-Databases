{
  "nbformat": 4,
  "nbformat_minor": 0,
  "metadata": {
    "colab": {
      "provenance": []
    },
    "kernelspec": {
      "name": "python3",
      "display_name": "Python 3"
    },
    "language_info": {
      "name": "python"
    }
  },
  "cells": [
    {
      "cell_type": "markdown",
      "source": [
        "data ---- > vector ---- >>  vector databases"
      ],
      "metadata": {
        "id": "pZPrrgWQe_rV"
      }
    },
    {
      "cell_type": "markdown",
      "source": [
        "A vector databases is a database used for storing high - dimensional vectors such as word embeddings , image embedding <br>\n",
        "**Embeddings :**\n",
        "an embedding refers to a high-dimensional vector representation of data.\n",
        "<br>\n",
        "- LLM use base transformer architecture for\n",
        "making"
      ],
      "metadata": {
        "id": "OnvrfWqAgtru"
      }
    },
    {
      "cell_type": "code",
      "source": [],
      "metadata": {
        "id": "nR9cm2G1gvKU"
      },
      "execution_count": null,
      "outputs": []
    }
  ]
}